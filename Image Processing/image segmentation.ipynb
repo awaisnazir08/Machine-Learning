{
 "cells": [
  {
   "cell_type": "code",
   "execution_count": 44,
   "metadata": {},
   "outputs": [],
   "source": [
    "import matplotlib.pyplot as plt\n",
    "from skimage.segmentation import slic\n",
    "import numpy as np\n",
    "from skimage.color import label2rgb, rgb2gray\n",
    "from skimage import io\n"
   ]
  },
  {
   "cell_type": "code",
   "execution_count": 45,
   "metadata": {},
   "outputs": [],
   "source": [
    "def show_image(image, title='Image', cmap_type='gray'):\n",
    "    plt.imshow(image, cmap=cmap_type)\n",
    "    plt.title(title)\n",
    "    plt.axis('off')\n",
    "    plt.show()"
   ]
  },
  {
   "cell_type": "code",
   "execution_count": 47,
   "metadata": {},
   "outputs": [
    {
     "name": "stdout",
     "output_type": "stream",
     "text": [
      "Image shape: (1280, 720, 3)\n"
     ]
    }
   ],
   "source": [
    "image_path = 'D:\\Machine Learning\\Regression\\Image Processing\\\\beauty3.jpg'\n",
    "image = io.imread(image_path)\n",
    "\n",
    "# Convert the image to a NumPy array\n",
    "image_array = np.asarray(image)\n",
    "\n",
    "# Print the shape of the image array\n",
    "print(\"Image shape:\", image_array.shape)"
   ]
  },
  {
   "cell_type": "code",
   "execution_count": 56,
   "metadata": {},
   "outputs": [
    {
     "ename": "SyntaxError",
     "evalue": "invalid syntax (2216193816.py, line 11)",
     "output_type": "error",
     "traceback": [
      "\u001b[1;36m  Cell \u001b[1;32mIn[56], line 11\u001b[1;36m\u001b[0m\n\u001b[1;33m    plt.imshow(img_array).\u001b[0m\n\u001b[1;37m                          ^\u001b[0m\n\u001b[1;31mSyntaxError\u001b[0m\u001b[1;31m:\u001b[0m invalid syntax\n"
     ]
    }
   ],
   "source": [
    "from PIL import Image\n",
    "import matplotlib.pyplot as plt\n",
    "\n",
    "# Open the image using Image.open() from PIL\n",
    "img = Image.open(image_path)\n",
    "\n",
    "# Convert the PIL Image to a NumPy array\n",
    "img_array = plt.imread(image_path)\n",
    "\n",
    "# Display the image using plt.imshow()\n",
    "plt.imshow(img_array)\n",
    "\n",
    "# Show the plot\n",
    "plt.show()"
   ]
  },
  {
   "cell_type": "code",
   "execution_count": 49,
   "metadata": {},
   "outputs": [
    {
     "data": {
      "text/plain": [
       "(1280, 720, 3)"
      ]
     },
     "execution_count": 49,
     "metadata": {},
     "output_type": "execute_result"
    }
   ],
   "source": [
    "img_array.shape"
   ]
  },
  {
   "cell_type": "code",
   "execution_count": 57,
   "metadata": {},
   "outputs": [
    {
     "ename": "NameError",
     "evalue": "name 'img_arry' is not defined",
     "output_type": "error",
     "traceback": [
      "\u001b[1;31m---------------------------------------------------------------------------\u001b[0m",
      "\u001b[1;31mNameError\u001b[0m                                 Traceback (most recent call last)",
      "Cell \u001b[1;32mIn[57], line 1\u001b[0m\n\u001b[1;32m----> 1\u001b[0m show_image(\u001b[43mimg_arry\u001b[49m)\n",
      "\u001b[1;31mNameError\u001b[0m: name 'img_arry' is not defined"
     ]
    }
   ],
   "source": [
    "show_image(img_array)"
   ]
  },
  {
   "cell_type": "code",
   "execution_count": 58,
   "metadata": {},
   "outputs": [
    {
     "ename": "NameError",
     "evalue": "name 'segmente_image' is not defined",
     "output_type": "error",
     "traceback": [
      "\u001b[1;31m---------------------------------------------------------------------------\u001b[0m",
      "\u001b[1;31mNameError\u001b[0m                                 Traceback (most recent call last)",
      "Cell \u001b[1;32mIn[58], line 7\u001b[0m\n\u001b[0;32m      4\u001b[0m segmented_image \u001b[38;5;241m=\u001b[39m label2rgb(segments, image_array, kind\u001b[38;5;241m=\u001b[39m\u001b[38;5;124m'\u001b[39m\u001b[38;5;124mavg\u001b[39m\u001b[38;5;124m'\u001b[39m)\n\u001b[0;32m      6\u001b[0m \u001b[38;5;66;03m# Show the segmented image\u001b[39;00m\n\u001b[1;32m----> 7\u001b[0m show_image(\u001b[43msegmente_image\u001b[49m, \u001b[38;5;124m\"\u001b[39m\u001b[38;5;124mSegmented image, 500 superpixels\u001b[39m\u001b[38;5;124m\"\u001b[39m)\n",
      "\u001b[1;31mNameError\u001b[0m: name 'segmente_image' is not defined"
     ]
    }
   ],
   "source": [
    "segments = slic(image_array, n_segments = 500)\n",
    "\n",
    "# Put segments on top of original image to compare\n",
    "segmented_image = label2rgb(segments, image_array, kind='avg')\n",
    "\n",
    "# Show the segmented image\n",
    "show_image(segmented_image, \"Segmented image, 500 superpixels\")"
   ]
  },
  {
   "cell_type": "code",
   "execution_count": 54,
   "metadata": {},
   "outputs": [],
   "source": [
    "segmented_image = Image.fromarray(segmented_image)\n",
    "segmented_image.save('D:\\Machine Learning\\Regression\\Image Processing\\mylove3.png')"
   ]
  },
  {
   "cell_type": "code",
   "execution_count": null,
   "metadata": {},
   "outputs": [],
   "source": []
  }
 ],
 "metadata": {
  "kernelspec": {
   "display_name": "Python 3",
   "language": "python",
   "name": "python3"
  },
  "language_info": {
   "codemirror_mode": {
    "name": "ipython",
    "version": 3
   },
   "file_extension": ".py",
   "mimetype": "text/x-python",
   "name": "python",
   "nbconvert_exporter": "python",
   "pygments_lexer": "ipython3",
   "version": "3.11.5"
  }
 },
 "nbformat": 4,
 "nbformat_minor": 2
}
